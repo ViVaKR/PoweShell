{
    "metadata": {
        "kernelspec": {
            "name": "SQL",
            "display_name": "SQL",
            "language": "sql"
        },
        "language_info": {
            "name": "sql",
            "version": ""
        },
        "orig_nbformat": 4
    },
    "nbformat_minor": 2,
    "nbformat": 4,
    "cells": [
        {
            "cell_type": "code",
            "source": [
                "USE Viv;\r\n",
                "go"
            ],
            "metadata": {
                "azdata_cell_guid": "907e8259-871e-4e69-9644-2fdf42ceda28",
                "language": "sql"
            },
            "outputs": [],
            "execution_count": null
        }
    ]
}